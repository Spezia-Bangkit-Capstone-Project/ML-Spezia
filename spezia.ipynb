{
  "nbformat": 4,
  "nbformat_minor": 0,
  "metadata": {
    "colab": {
      "name": "spezia",
      "provenance": [],
      "collapsed_sections": []
    },
    "kernelspec": {
      "name": "python3",
      "display_name": "Python 3"
    },
    "language_info": {
      "name": "python"
    }
  },
  "cells": [
    {
      "cell_type": "code",
      "execution_count": null,
      "metadata": {
        "id": "qctnbh0hh_C8"
      },
      "outputs": [],
      "source": [
        "import os\n",
        "import zipfile\n",
        "import random\n",
        "import shutil\n",
        "import tensorflow as tf\n",
        "from tensorflow.keras.preprocessing.image import ImageDataGenerator\n",
        "from shutil import copyfile\n",
        "import matplotlib.pyplot as plt\n",
        "from random import sample\n",
        "from tensorflow.keras import optimizers, losses\n",
        "from tensorflow.keras.callbacks import EarlyStopping"
      ]
    },
    {
      "cell_type": "code",
      "source": [
        "from google.colab import drive\n",
        "drive.mount('/content/drive')"
      ],
      "metadata": {
        "colab": {
          "base_uri": "https://localhost:8080/"
        },
        "id": "C8GBnDLJ_C68",
        "outputId": "b2b1f896-dbc9-44be-c84c-bdd0dbf695df"
      },
      "execution_count": null,
      "outputs": [
        {
          "output_type": "stream",
          "name": "stdout",
          "text": [
            "Mounted at /content/drive\n"
          ]
        }
      ]
    },
    {
      "cell_type": "code",
      "source": [
        "source_path = 'drive/Shareddrives/spezia/ML/dataset rempah'\n",
        "\n",
        "source_path_asams = os.path.join(source_path, 'asam')\n",
        "source_path_candlenuts = os.path.join(source_path, 'candlenut')\n",
        "source_path_cinnamons = os.path.join(source_path, 'cinnamon')\n",
        "source_path_citrus = os.path.join(source_path, 'citrus leaf')\n",
        "source_path_cloves = os.path.join(source_path, 'clove')\n",
        "source_path_salams = os.path.join(source_path, 'daun salam')\n",
        "source_path_gingers = os.path.join(source_path, 'ginger')\n",
        "source_path_keluaks = os.path.join(source_path, 'keluak')\n",
        "source_path_ketumbars = os.path.join(source_path, 'ketumbar')\n",
        "source_path_kunyits = os.path.join(source_path, 'kunyit')\n",
        "source_path_ladas = os.path.join(source_path, 'lada hitam')\n",
        "source_path_pekaks = os.path.join(source_path, 'pekak')\n",
        "source_path_serais = os.path.join(source_path, 'serai')"
      ],
      "metadata": {
        "id": "ZOZaap1t_WGZ"
      },
      "execution_count": null,
      "outputs": []
    },
    {
      "cell_type": "code",
      "source": [
        "print(f\"There are {len(os.listdir(source_path_asams))} images of daun asams.\")\n",
        "print(f\"There are {len(os.listdir(source_path_candlenuts))} images of candlenuts.\")\n",
        "print(f\"There are {len(os.listdir(source_path_cinnamons))} images of cinammons.\")\n",
        "print(f\"There are {len(os.listdir(source_path_citrus))} images of citrus.\")\n",
        "print(f\"There are {len(os.listdir(source_path_cloves))} images of cloves.\")\n",
        "print(f\"There are {len(os.listdir(source_path_salams))} images of salams.\")\n",
        "print(f\"There are {len(os.listdir(source_path_gingers))} images of gingers.\")\n",
        "print(f\"There are {len(os.listdir(source_path_keluaks))} images of keluaks.\")\n",
        "print(f\"There are {len(os.listdir(source_path_ketumbars))} images of ketumbars.\")\n",
        "print(f\"There are {len(os.listdir(source_path_kunyits))} images of kunyits.\")\n",
        "print(f\"There are {len(os.listdir(source_path_ladas))} images of ladas.\")\n",
        "print(f\"There are {len(os.listdir(source_path_pekaks))} images of pekaks.\")\n",
        "print(f\"There are {len(os.listdir(source_path_serais))} images of serais.\")"
      ],
      "metadata": {
        "colab": {
          "base_uri": "https://localhost:8080/"
        },
        "id": "3Z-RdtkNOtf9",
        "outputId": "d55952db-b58c-4cb7-8097-c47fd41161a0"
      },
      "execution_count": null,
      "outputs": [
        {
          "output_type": "stream",
          "name": "stdout",
          "text": [
            "There are 116 images of daun asams.\n",
            "There are 173 images of candlenuts.\n",
            "There are 193 images of cinammons.\n",
            "There are 102 images of citrus.\n",
            "There are 104 images of cloves.\n",
            "There are 118 images of salams.\n",
            "There are 114 images of gingers.\n",
            "There are 85 images of keluaks.\n",
            "There are 102 images of ketumbars.\n",
            "There are 95 images of kunyits.\n",
            "There are 129 images of ladas.\n",
            "There are 109 images of pekaks.\n",
            "There are 102 images of serais.\n"
          ]
        }
      ]
    },
    {
      "cell_type": "code",
      "source": [
        "dir = 'sample_data/rempah'\n",
        "\n",
        "if os.path.exists(dir):\n",
        "  shutil.rmtree(dir)\n",
        "\n",
        "\n",
        "def create_train_test_dirs(root_path):\n",
        "  ### START CODE HERE\n",
        "\n",
        "  # HINT:\n",
        "  # Use os.makedirs to create your directories with intermediate subdirectories\n",
        "  # Don't hardcode the paths. Use os.path.join to append the new directories to the root_path parameter\n",
        "\n",
        "  os.mkdir(root_path)\n",
        "  \n",
        "  train_dir = os.path.join(root_path, 'training')\n",
        "  os.mkdir(train_dir)\n",
        "  test_dir = os.path.join(root_path, 'testing')\n",
        "  os.mkdir(test_dir)\n",
        "\n",
        "  train_asams_dir = os.path.join(train_dir, 'asams')\n",
        "  os.mkdir(train_asams_dir)\n",
        "  train_candlenuts_dir = os.path.join(train_dir, 'candlenuts')\n",
        "  os.mkdir(train_candlenuts_dir)\n",
        "  train_cinnamons_dir = os.path.join(train_dir, 'cinnamons')\n",
        "  os.mkdir(train_cinnamons_dir)\n",
        "  train_citrus_dir = os.path.join(train_dir, 'citrus')\n",
        "  os.mkdir(train_citrus_dir)\n",
        "  train_cloves_dir = os.path.join(train_dir, 'cloves')\n",
        "  os.mkdir(train_cloves_dir)\n",
        "  train_salams_dir = os.path.join(train_dir, 'salams')\n",
        "  os.mkdir(train_salams_dir)\n",
        "  train_gingers_dir = os.path.join(train_dir, 'gingers')\n",
        "  os.mkdir(train_gingers_dir)  \n",
        "  train_keluaks_dir = os.path.join(train_dir, 'keluaks')\n",
        "  os.mkdir(train_keluaks_dir)\n",
        "  train_ketumbars_dir = os.path.join(train_dir, 'ketumbars')\n",
        "  os.mkdir(train_ketumbars_dir)\n",
        "  train_kunyits_dir = os.path.join(train_dir, 'kunyits')\n",
        "  os.mkdir(train_kunyits_dir)\n",
        "  train_ladas_dir = os.path.join(train_dir, 'ladas')\n",
        "  os.mkdir(train_ladas_dir)\n",
        "  train_pekaks_dir = os.path.join(train_dir, 'pekaks')\n",
        "  os.mkdir(train_pekaks_dir)\n",
        "  train_serais_dir = os.path.join(train_dir, 'serais')\n",
        "  os.mkdir(train_serais_dir)\n",
        "  \n",
        "  test_asams_dir = os.path.join(test_dir, 'asams')\n",
        "  os.mkdir(test_asams_dir)\n",
        "  test_candlenuts_dir = os.path.join(test_dir, 'candlenuts')\n",
        "  os.mkdir(test_candlenuts_dir)\n",
        "  test_cinnamons_dir = os.path.join(test_dir, 'cinnamons')\n",
        "  os.mkdir(test_cinnamons_dir)\n",
        "  test_citrus_dir = os.path.join(test_dir, 'citrus')\n",
        "  os.mkdir(test_citrus_dir)\n",
        "  test_cloves_dir = os.path.join(test_dir, 'cloves')\n",
        "  os.mkdir(test_cloves_dir)\n",
        "  test_salams_dir = os.path.join(test_dir, 'salams')\n",
        "  os.mkdir(test_salams_dir)\n",
        "  test_gingers_dir = os.path.join(test_dir, 'gingers')\n",
        "  os.mkdir(test_gingers_dir)  \n",
        "  test_keluaks_dir = os.path.join(test_dir, 'keluaks')\n",
        "  os.mkdir(test_keluaks_dir)\n",
        "  test_ketumbars_dir = os.path.join(test_dir, 'ketumbars')\n",
        "  os.mkdir(test_ketumbars_dir)\n",
        "  test_kunyits_dir = os.path.join(test_dir, 'kunyits')\n",
        "  os.mkdir(test_kunyits_dir)\n",
        "  test_ladas_dir = os.path.join(test_dir, 'ladas')\n",
        "  os.mkdir(test_ladas_dir)\n",
        "  test_pekaks_dir = os.path.join(test_dir, 'pekaks')\n",
        "  os.mkdir(test_pekaks_dir)\n",
        "  test_serais_dir = os.path.join(test_dir, 'serais')\n",
        "  os.mkdir(test_serais_dir)\n",
        "\n",
        "try:\n",
        "  create_train_test_dirs(root_path=dir)\n",
        "except FileExistsError:\n",
        "  print(\"You should not be seeing this since the upper directory is removed beforehand\")\n",
        "  ### END CODE HERE"
      ],
      "metadata": {
        "id": "wbBWRE_W_WDD"
      },
      "execution_count": null,
      "outputs": []
    },
    {
      "cell_type": "code",
      "source": [
        "for rootdir, dirs, files in os.walk(dir):\n",
        "    for subdir in dirs:\n",
        "        print(os.path.join(rootdir, subdir))"
      ],
      "metadata": {
        "id": "euz_SZjX_WBf",
        "colab": {
          "base_uri": "https://localhost:8080/"
        },
        "outputId": "2bb1868a-1fe2-4e31-b2bc-3c0a7516b3d3"
      },
      "execution_count": null,
      "outputs": [
        {
          "output_type": "stream",
          "name": "stdout",
          "text": [
            "sample_data/rempah/testing\n",
            "sample_data/rempah/training\n",
            "sample_data/rempah/testing/cinnamons\n",
            "sample_data/rempah/testing/cloves\n",
            "sample_data/rempah/testing/asams\n",
            "sample_data/rempah/testing/serais\n",
            "sample_data/rempah/testing/gingers\n",
            "sample_data/rempah/testing/kunyits\n",
            "sample_data/rempah/testing/keluaks\n",
            "sample_data/rempah/testing/salams\n",
            "sample_data/rempah/testing/candlenuts\n",
            "sample_data/rempah/testing/pekaks\n",
            "sample_data/rempah/testing/ketumbars\n",
            "sample_data/rempah/testing/ladas\n",
            "sample_data/rempah/testing/citrus\n",
            "sample_data/rempah/training/cinnamons\n",
            "sample_data/rempah/training/cloves\n",
            "sample_data/rempah/training/asams\n",
            "sample_data/rempah/training/serais\n",
            "sample_data/rempah/training/gingers\n",
            "sample_data/rempah/training/kunyits\n",
            "sample_data/rempah/training/keluaks\n",
            "sample_data/rempah/training/salams\n",
            "sample_data/rempah/training/candlenuts\n",
            "sample_data/rempah/training/pekaks\n",
            "sample_data/rempah/training/ketumbars\n",
            "sample_data/rempah/training/ladas\n",
            "sample_data/rempah/training/citrus\n"
          ]
        }
      ]
    },
    {
      "cell_type": "code",
      "source": [
        "def split_data(SOURCE, TRAINING, TESTING, SPLIT_SIZE):\n",
        "\n",
        "  ### START CODE HERE\n",
        "  dataset = []\n",
        "  for unitData in os.listdir(SOURCE):\n",
        "      data = SOURCE + unitData\n",
        "      if (os.path.getsize(data) > 0):\n",
        "          dataset.append(unitData)\n",
        "      else:\n",
        "          print(unitData + \" is zero length, so ignoring.\")\n",
        "    \n",
        "  train_data_length = int(len(dataset) * SPLIT_SIZE)\n",
        "  test_data_length = int(len(dataset) - train_data_length)\n",
        "  shuffled_set = random.sample(dataset, len(dataset))\n",
        "  train_set = shuffled_set[0:train_data_length]\n",
        "  test_set = shuffled_set[-test_data_length:]\n",
        "    \n",
        "  for unitData in train_set:\n",
        "      temp_train_data = SOURCE + unitData\n",
        "      final_train_data = TRAINING + unitData\n",
        "      copyfile(temp_train_data, final_train_data)\n",
        "    \n",
        "  for unitData in test_set:\n",
        "      temp_test_data = SOURCE + unitData\n",
        "      final_test_data = TESTING + unitData\n",
        "      copyfile(temp_train_data, final_test_data)\n",
        "\n",
        "  ### END CODE HERE\n"
      ],
      "metadata": {
        "id": "gEXFencX_V_a"
      },
      "execution_count": null,
      "outputs": []
    },
    {
      "cell_type": "code",
      "source": [
        "ASAM_SOURCE_DIR = 'drive/Shareddrives/spezia/ML/dataset rempah/asam/'\n",
        "CANDLENUT_SOURCE_DIR = 'drive/Shareddrives/spezia/ML/dataset rempah/candlenut/'\n",
        "CINNAMON_SOURCE_DIR = 'drive/Shareddrives/spezia/ML/dataset rempah/cinnamon/'\n",
        "CITRUS_SOURCE_DIR = 'drive/Shareddrives/spezia/ML/dataset rempah/citrus leaf/'\n",
        "CLOVE_SOURCE_DIR = 'drive/Shareddrives/spezia/ML/dataset rempah/clove/'\n",
        "SALAM_SOURCE_DIR = 'drive/Shareddrives/spezia/ML/dataset rempah/daun salam/'\n",
        "GINGER_SOURCE_DIR = 'drive/Shareddrives/spezia/ML/dataset rempah/ginger/'\n",
        "KELUAK_SOURCE_DIR = 'drive/Shareddrives/spezia/ML/dataset rempah/keluak/'\n",
        "KETUMBAR_SOURCE_DIR = 'drive/Shareddrives/spezia/ML/dataset rempah/ketumbar/'\n",
        "KUNYIT_SOURCE_DIR = 'drive/Shareddrives/spezia/ML/dataset rempah/kunyit/'\n",
        "LADA_SOURCE_DIR = 'drive/Shareddrives/spezia/ML/dataset rempah/lada hitam/'\n",
        "PEKAK_SOURCE_DIR = 'drive/Shareddrives/spezia/ML/dataset rempah/pekak/'\n",
        "SERAI_SOURCE_DIR = 'drive/Shareddrives/spezia/ML/dataset rempah/serai/'\n",
        "\n",
        "TRAINING_DIR = \"sample_data/rempah/training\"\n",
        "TESTING_DIR = \"sample_data/rempah/testing/\"\n",
        "\n",
        "train_asams_dir = os.path.join(TRAINING_DIR, 'asams/')\n",
        "train_candlenuts_dir = os.path.join(TRAINING_DIR, 'candlenuts/')\n",
        "train_cinnamons_dir = os.path.join(TRAINING_DIR, 'cinnamons/')\n",
        "train_citrus_dir = os.path.join(TRAINING_DIR, 'citrus/')\n",
        "train_cloves_dir = os.path.join(TRAINING_DIR, 'cloves/') \n",
        "train_salams_dir = os.path.join(TRAINING_DIR, 'salams/')  \n",
        "train_gingers_dir = os.path.join(TRAINING_DIR, 'gingers/')    \n",
        "train_keluaks_dir = os.path.join(TRAINING_DIR, 'keluaks/')  \n",
        "train_ketumbars_dir = os.path.join(TRAINING_DIR, 'ketumbars/')  \n",
        "train_kunyits_dir = os.path.join(TRAINING_DIR, 'kunyits/')  \n",
        "train_ladas_dir = os.path.join(TRAINING_DIR, 'ladas/')  \n",
        "train_pekaks_dir = os.path.join(TRAINING_DIR, 'pekaks/')  \n",
        "train_serais_dir = os.path.join(TRAINING_DIR, 'serais/')\n",
        "  \n",
        "test_asams_dir = os.path.join(TESTING_DIR, 'asams/')\n",
        "test_candlenuts_dir = os.path.join(TESTING_DIR, 'candlenuts/')\n",
        "test_cinnamons_dir = os.path.join(TESTING_DIR, 'cinnamons/')\n",
        "test_citrus_dir = os.path.join(TESTING_DIR, 'citrus/')\n",
        "test_cloves_dir = os.path.join(TESTING_DIR, 'cloves/') \n",
        "test_salams_dir = os.path.join(TESTING_DIR, 'salams/')  \n",
        "test_gingers_dir = os.path.join(TESTING_DIR, 'gingers/')    \n",
        "test_keluaks_dir = os.path.join(TESTING_DIR, 'keluaks/')  \n",
        "test_ketumbars_dir = os.path.join(TESTING_DIR, 'ketumbars/')  \n",
        "test_kunyits_dir = os.path.join(TESTING_DIR, 'kunyits/')  \n",
        "test_ladas_dir = os.path.join(TESTING_DIR, 'ladas/')  \n",
        "test_pekaks_dir = os.path.join(TESTING_DIR, 'pekaks/')  \n",
        "test_serais_dir = os.path.join(TESTING_DIR, 'serais/')\n",
        "\n",
        "  \n",
        "\n",
        "# Empty directories in case you run this cell multiple times\n",
        "if len(os.listdir(train_asams_dir)) > 0:\n",
        "  for file in os.scandir(train_asams_dir):\n",
        "    os.remove(file.path)\n",
        "if len(os.listdir(train_candlenuts_dir)) > 0:\n",
        "  for file in os.scandir(train_candlenuts_dir):\n",
        "    os.remove(file.path)\n",
        "if len(os.listdir(train_cinnamons_dir)) > 0:\n",
        "  for file in os.scandir(train_cinnamons_dir):\n",
        "    os.remove(file.path)\n",
        "if len(os.listdir(train_citrus_dir)) > 0:\n",
        "  for file in os.scandir(train_citrus_dir):\n",
        "    os.remove(file.path)\n",
        "if len(os.listdir(train_cloves_dir)) > 0:\n",
        "  for file in os.scandir(train_cloves_dir):\n",
        "    os.remove(file.path)\n",
        "if len(os.listdir(train_salams_dir)) > 0:\n",
        "  for file in os.scandir(train_salams_dir):\n",
        "    os.remove(file.path)\n",
        "if len(os.listdir(train_gingers_dir)) > 0:\n",
        "  for file in os.scandir(train_gingers_dir):\n",
        "    os.remove(file.path)\n",
        "if len(os.listdir(train_keluaks_dir)) > 0:\n",
        "  for file in os.scandir(train_keluaks_dir):\n",
        "    os.remove(file.path)\n",
        "if len(os.listdir(train_ketumbars_dir)) > 0:\n",
        "  for file in os.scandir(train_ketumbars_dir):\n",
        "    os.remove(file.path)\n",
        "if len(os.listdir(train_kunyits_dir)) > 0:\n",
        "  for file in os.scandir(train_kunyits_dir):\n",
        "    os.remove(file.path)\n",
        "if len(os.listdir(train_ladas_dir)) > 0:\n",
        "  for file in os.scandir(train_ladas_dir):\n",
        "    os.remove(file.path)\n",
        "if len(os.listdir(train_pekaks_dir)) > 0:\n",
        "  for file in os.scandir(train_pekaks_dir):\n",
        "    os.remove(file.path)\n",
        "if len(os.listdir(train_serais_dir)) > 0:\n",
        "  for file in os.scandir(train_serais_dir):\n",
        "    os.remove(file.path)\n",
        "    \n",
        "if len(os.listdir(test_asams_dir)) > 0:\n",
        "  for file in os.scandir(test_asams_dir):\n",
        "    os.remove(file.path)\n",
        "if len(os.listdir(test_candlenuts_dir)) > 0:\n",
        "  for file in os.scandir(test_candlenuts_dir):\n",
        "    os.remove(file.path)\n",
        "if len(os.listdir(test_cinnamons_dir)) > 0:\n",
        "  for file in os.scandir(test_cinnamons_dir):\n",
        "    os.remove(file.path)\n",
        "if len(os.listdir(test_citrus_dir)) > 0:\n",
        "  for file in os.scandir(test_citrus_dir):\n",
        "    os.remove(file.path)\n",
        "if len(os.listdir(test_cloves_dir)) > 0:\n",
        "  for file in os.scandir(test_cloves_dir):\n",
        "    os.remove(file.path)\n",
        "if len(os.listdir(test_salams_dir)) > 0:\n",
        "  for file in os.scandir(test_salams_dir):\n",
        "    os.remove(file.path)\n",
        "if len(os.listdir(test_gingers_dir)) > 0:\n",
        "  for file in os.scandir(test_gingers_dir):\n",
        "    os.remove(file.path)\n",
        "if len(os.listdir(test_keluaks_dir)) > 0:\n",
        "  for file in os.scandir(test_keluaks_dir):\n",
        "    os.remove(file.path)\n",
        "if len(os.listdir(test_ketumbars_dir)) > 0:\n",
        "  for file in os.scandir(test_ketumbars_dir):\n",
        "    os.remove(file.path)\n",
        "if len(os.listdir(test_kunyits_dir)) > 0:\n",
        "  for file in os.scandir(test_kunyits_dir):\n",
        "    os.remove(file.path)\n",
        "if len(os.listdir(test_ladas_dir)) > 0:\n",
        "  for file in os.scandir(test_ladas_dir):\n",
        "    os.remove(file.path)\n",
        "if len(os.listdir(test_pekaks_dir)) > 0:\n",
        "  for file in os.scandir(test_pekaks_dir):\n",
        "    os.remove(file.path)\n",
        "if len(os.listdir(test_serais_dir)) > 0:\n",
        "  for file in os.scandir(test_serais_dir):\n",
        "    os.remove(file.path)\n",
        "    \n",
        "\n",
        "# Define proportion of images used for training\n",
        "split_size = .9\n",
        "\n",
        "# Run the function\n",
        "# NOTE: Messages about zero length images should be printed out\n",
        "split_data(ASAM_SOURCE_DIR, train_asams_dir, test_asams_dir, split_size)\n",
        "split_data(CANDLENUT_SOURCE_DIR, train_candlenuts_dir, test_candlenuts_dir, split_size)\n",
        "split_data(CINNAMON_SOURCE_DIR, train_cinnamons_dir, test_cinnamons_dir, split_size)\n",
        "split_data(CITRUS_SOURCE_DIR, train_citrus_dir, test_citrus_dir, split_size)\n",
        "split_data(CLOVE_SOURCE_DIR, train_cloves_dir, test_cloves_dir, split_size)\n",
        "split_data(SALAM_SOURCE_DIR, train_salams_dir, test_salams_dir, split_size)\n",
        "split_data(GINGER_SOURCE_DIR, train_gingers_dir, test_gingers_dir, split_size)\n",
        "split_data(KELUAK_SOURCE_DIR, train_keluaks_dir, test_keluaks_dir, split_size)\n",
        "split_data(KETUMBAR_SOURCE_DIR, train_ketumbars_dir, test_ketumbars_dir, split_size)\n",
        "split_data(KUNYIT_SOURCE_DIR, train_kunyits_dir, test_kunyits_dir, split_size)\n",
        "split_data(LADA_SOURCE_DIR, train_ladas_dir, test_ladas_dir, split_size)\n",
        "split_data(PEKAK_SOURCE_DIR, train_pekaks_dir, test_pekaks_dir, split_size)\n",
        "split_data(SERAI_SOURCE_DIR, train_serais_dir, test_serais_dir, split_size)\n"
      ],
      "metadata": {
        "id": "lo-eYXUt_V9s"
      },
      "execution_count": null,
      "outputs": []
    },
    {
      "cell_type": "code",
      "source": [
        "batch_size=32\n",
        "def train_val_generators(TRAINING_DIR, VALIDATION_DIR):\n",
        "\n",
        "  # Instantiate the ImageDataGenerator class (don't forget to set the arguments to augment the images)\n",
        "  train_datagen = ImageDataGenerator(rescale=1.0/255.)\n",
        "                                    #  rotation_range=90,\n",
        "                                    #  width_shift_range=0.2,\n",
        "                                    #  height_shift_range=0.2,\n",
        "                                    #  horizontal_flip=True,\n",
        "                                    #  vertical_flip=False,\n",
        "                                    #  shear_range=0.3,\n",
        "                                    #  zoom_range=0.3,\n",
        "                                    #  fill_mode='nearest')\n",
        "\n",
        "  # Pass in the appropriate arguments to the flow_from_directory method\n",
        "  train_generator = train_datagen.flow_from_directory(directory=TRAINING_DIR,\n",
        "                                                      batch_size=batch_size,\n",
        "                                                      class_mode='categorical',\n",
        "                                                      color_mode= \"rgb\",\n",
        "                                                      target_size=(150, 150))\n",
        "\n",
        "  # Instantiate the ImageDataGenerator class (don't forget to set the rescale argument)\n",
        "  validation_datagen = ImageDataGenerator(rescale = 1.0/255.)\n",
        "\n",
        "  # Pass in the appropriate arguments to the flow_from_directory method\n",
        "  validation_generator = validation_datagen.flow_from_directory(directory=VALIDATION_DIR,\n",
        "                                                                batch_size=batch_size,\n",
        "                                                                class_mode='categorical',\n",
        "                                                                color_mode= \"rgb\",\n",
        "                                                                target_size=(150, 150))\n",
        "  ### END CODE HERE\n",
        "  return train_generator, validation_generator"
      ],
      "metadata": {
        "id": "A5opaMQz_V7x"
      },
      "execution_count": null,
      "outputs": []
    },
    {
      "cell_type": "code",
      "source": [
        "# Test your generators\n",
        "train_generator, validation_generator = train_val_generators(TRAINING_DIR, TESTING_DIR)"
      ],
      "metadata": {
        "id": "PGMbCA6N_V57",
        "colab": {
          "base_uri": "https://localhost:8080/"
        },
        "outputId": "380f0ff2-c844-4605-f5ec-a34504a4b027"
      },
      "execution_count": null,
      "outputs": [
        {
          "output_type": "stream",
          "name": "stdout",
          "text": [
            "Found 1332 images belonging to 13 classes.\n",
            "Found 153 images belonging to 13 classes.\n"
          ]
        }
      ]
    },
    {
      "cell_type": "markdown",
      "source": [
        "###Model \n"
      ],
      "metadata": {
        "id": "1hjBvji2Ayp1"
      }
    },
    {
      "cell_type": "code",
      "source": [
        "from tensorflow.keras.optimizers import RMSprop\n",
        "# GRADED FUNCTION: create_model\n",
        "def create_model():\n",
        "  model = tf.keras.models.Sequential([ \n",
        "    tf.keras.layers.Conv2D(32, (3,3), activation='relu', input_shape=(150, 150, 3)),\n",
        "    tf.keras.layers.MaxPooling2D(),\n",
        "    tf.keras.layers.Conv2D(64, (3,3), activation='relu'),\n",
        "    tf.keras.layers.MaxPooling2D(), \n",
        "    tf.keras.layers.Conv2D(64, (3,3), activation='relu'), \n",
        "    tf.keras.layers.MaxPooling2D(),\n",
        "    tf.keras.layers.Flatten(), \n",
        "    # 1024 neuron hidden layer\n",
        "    tf.keras.layers.Dense(1024, activation='relu'), \n",
        "    tf.keras.layers.Dense(13, activation='softmax')  \n",
        "  ])\n",
        "\n",
        "  model.compile(optimizer=\"rmsprop\",\n",
        "                loss='categorical_crossentropy',\n",
        "                metrics=['accuracy'])\n",
        "    \n",
        "  ### END CODE HERE\n",
        "\n",
        "  return model"
      ],
      "metadata": {
        "id": "AS5LK09U_V4Z"
      },
      "execution_count": null,
      "outputs": []
    },
    {
      "cell_type": "code",
      "source": [
        "class myCallback(tf.keras.callbacks.Callback):\n",
        "  def on_epoch_end(self, epoch, logs={}):\n",
        "    '''\n",
        "    Halts the training after reaching 60 percent accuracy\n",
        "\n",
        "    Args:\n",
        "      epoch (integer) - index of epoch (required but unused in the function definition below)\n",
        "      logs (dict) - metric results from the training epoch\n",
        "    '''\n",
        "\n",
        "    # Check accuracy\n",
        "    if(logs.get('val_loss') < 0.1):\n",
        "      # Stop if threshold is met\n",
        "      print(\"\\nLoss is lower than 0.4 so stop the training!\")\n",
        "      self.model.stop_training = True\n",
        "\n",
        "# Instantiate class\n",
        "callbacks = myCallback()"
      ],
      "metadata": {
        "id": "4LtmVo75ipfX"
      },
      "execution_count": null,
      "outputs": []
    },
    {
      "cell_type": "code",
      "source": [
        "model = create_model()\n",
        "\n",
        "# Train the model\n",
        "# Note that this may take some time.\n",
        "history = model.fit(train_generator,\n",
        "                    epochs=15,\n",
        "                    verbose=1,\n",
        "                    callbacks = [callbacks],\n",
        "                    steps_per_epoch = 40, \n",
        "                    validation_steps = 5,\n",
        "                    validation_data = validation_generator\n",
        "                   )"
      ],
      "metadata": {
        "id": "HhJrAxPA_V2h",
        "colab": {
          "base_uri": "https://localhost:8080/"
        },
        "outputId": "16f1a060-7356-4ac2-b45a-22a33102d1e9"
      },
      "execution_count": null,
      "outputs": [
        {
          "output_type": "stream",
          "name": "stdout",
          "text": [
            "Epoch 1/15\n",
            " 1/40 [..............................] - ETA: 2:10 - loss: 2.5827 - accuracy: 0.0625"
          ]
        },
        {
          "output_type": "stream",
          "name": "stderr",
          "text": [
            "/usr/local/lib/python3.7/dist-packages/PIL/Image.py:960: UserWarning: Palette images with Transparency expressed in bytes should be converted to RGBA images\n",
            "  \"Palette images with Transparency expressed in bytes should be \"\n"
          ]
        },
        {
          "output_type": "stream",
          "name": "stdout",
          "text": [
            "40/40 [==============================] - 72s 2s/step - loss: 3.2744 - accuracy: 0.1822 - val_loss: 2.1214 - val_accuracy: 0.1765\n",
            "Epoch 2/15\n",
            "40/40 [==============================] - 70s 2s/step - loss: 1.9304 - accuracy: 0.3407 - val_loss: 1.3802 - val_accuracy: 0.4118\n",
            "Epoch 3/15\n",
            "40/40 [==============================] - 70s 2s/step - loss: 1.5500 - accuracy: 0.4859 - val_loss: 1.0679 - val_accuracy: 0.6405\n",
            "Epoch 4/15\n",
            "40/40 [==============================] - 69s 2s/step - loss: 1.1861 - accuracy: 0.6120 - val_loss: 0.7739 - val_accuracy: 0.5621\n",
            "Epoch 5/15\n",
            "40/40 [==============================] - 69s 2s/step - loss: 0.8427 - accuracy: 0.7437 - val_loss: 0.6007 - val_accuracy: 0.8366\n",
            "Epoch 6/15\n",
            "40/40 [==============================] - 70s 2s/step - loss: 0.6056 - accuracy: 0.8257 - val_loss: 0.6153 - val_accuracy: 0.7582\n",
            "Epoch 7/15\n",
            "40/40 [==============================] - 69s 2s/step - loss: 0.4171 - accuracy: 0.8809 - val_loss: 0.3899 - val_accuracy: 0.9542\n",
            "Epoch 8/15\n",
            "40/40 [==============================] - 70s 2s/step - loss: 0.1859 - accuracy: 0.9598 - val_loss: 0.7706 - val_accuracy: 0.7516\n",
            "Epoch 9/15\n",
            "40/40 [==============================] - 72s 2s/step - loss: 0.1559 - accuracy: 0.9606 - val_loss: 0.3661 - val_accuracy: 0.9542\n",
            "Epoch 10/15\n",
            "40/40 [==============================] - 70s 2s/step - loss: 0.1418 - accuracy: 0.9629 - val_loss: 0.4338 - val_accuracy: 0.9542\n",
            "Epoch 11/15\n",
            "40/40 [==============================] - 70s 2s/step - loss: 0.0915 - accuracy: 0.9740 - val_loss: 0.5242 - val_accuracy: 0.9542\n",
            "Epoch 12/15\n",
            "40/40 [==============================] - 71s 2s/step - loss: 0.0871 - accuracy: 0.9758 - val_loss: 0.4388 - val_accuracy: 0.9542\n",
            "Epoch 13/15\n",
            "40/40 [==============================] - 70s 2s/step - loss: 0.1276 - accuracy: 0.9748 - val_loss: 0.6254 - val_accuracy: 0.9542\n",
            "Epoch 14/15\n",
            "40/40 [==============================] - 69s 2s/step - loss: 0.0088 - accuracy: 0.9984 - val_loss: 0.5219 - val_accuracy: 0.9542\n",
            "Epoch 15/15\n",
            "40/40 [==============================] - 70s 2s/step - loss: 0.2574 - accuracy: 0.9614 - val_loss: 0.1217 - val_accuracy: 0.9542\n"
          ]
        }
      ]
    },
    {
      "cell_type": "code",
      "source": [
        "import matplotlib.pyplot as plt\n",
        "acc = history.history['accuracy']\n",
        "val_acc = history.history['val_accuracy']\n",
        "loss = history.history['loss']\n",
        "val_loss = history.history['val_loss']\n",
        "\n",
        "epochs = range(len(acc))\n",
        "\n",
        "plt.plot(epochs, acc, 'r', label='Training accuracy')\n",
        "plt.plot(epochs, val_acc, 'b', label='Validation accuracy')\n",
        "plt.title('Training and validation accuracy')\n",
        "plt.legend(loc=0)\n",
        "plt.figure()\n",
        "\n",
        "plt.plot(epochs, loss, 'r', label='Training loss')\n",
        "plt.plot(epochs, val_loss, 'b', label='Validation loss')\n",
        "plt.title('Training and validation loss')\n",
        "plt.legend(loc=0) \n",
        "plt.figure()\n",
        "\n",
        "\n",
        "plt.show()\n",
        "\n",
        "print(train_generator)"
      ],
      "metadata": {
        "id": "-6OQVOoN_V0k",
        "colab": {
          "base_uri": "https://localhost:8080/",
          "height": 580
        },
        "outputId": "1d36db1c-0f50-4b38-e856-9a847829c950"
      },
      "execution_count": null,
      "outputs": [
        {
          "output_type": "display_data",
          "data": {
            "text/plain": [
              "<Figure size 432x288 with 1 Axes>"
            ],
            "image/png": "[encoded data removed]"
          },
          "metadata": {
            "needs_background": "light"
          }
        },
        {
          "output_type": "display_data",
          "data": {
            "text/plain": [
              "<Figure size 432x288 with 1 Axes>"
            ],
            "image/png": "[encoded data removed]"
          },
          "metadata": {
            "needs_background": "light"
          }
        },
        {
          "output_type": "display_data",
          "data": {
            "text/plain": [
              "<Figure size 432x288 with 0 Axes>"
            ]
          },
          "metadata": {}
        },
        {
          "output_type": "stream",
          "name": "stdout",
          "text": [
            "<keras.preprocessing.image.DirectoryIterator object at 0x7f8fd8e8ba90>\n"
          ]
        }
      ]
    },
    {
      "cell_type": "code",
      "source": [
        "import numpy as np\n",
        "from google.colab import files\n",
        "from keras.preprocessing import image\n",
        "\n",
        "uploaded = files.upload()\n",
        "\n",
        "for fn in uploaded.keys():\n",
        " \n",
        "  path = fn\n",
        "  img = image.load_img(path, target_size=(150, 150))\n",
        "  x = image.img_to_array(img)\n",
        "  x = np.expand_dims(x, axis=0)\n",
        "\n",
        "  images = np.vstack([x])\n",
        "  classes = model.predict(images, batch_size=10)\n",
        "  print(fn)\n",
        "  if classes[0][0] == 1.0 :\n",
        "    print('Asam Jawa')\n",
        "  elif classes[0][1] == 1.0:\n",
        "    print('Kemiri')\n",
        "  elif classes[0][2] == 1.0:\n",
        "    print('Kayu Manis')\n",
        "  elif classes[0][3] == 1.0:\n",
        "    print('Daun Jeruk')\n",
        "  elif classes[0][4] == 1.0:\n",
        "    print('Cengkeh')\n",
        "  elif classes[0][5] == 1.0:\n",
        "    print('Jahe')\n",
        "  elif classes[0][6] == 1.0:\n",
        "    print('Keluak')\n",
        "  elif classes[0][7] == 1.0:\n",
        "    print('Ketumbar')\n",
        "  elif classes[0][8] == 1.0:\n",
        "    print('Kunyit')\n",
        "  elif classes[0][9] == 1.0:\n",
        "    print('Lada Hitam')\n",
        "  elif classes[0][10] == 1.0:\n",
        "    print('Pekak')\n",
        "  elif classes[0][11] == 1.0:\n",
        "    print('Salam')\n",
        "  elif classes[0][12] == 1.0:\n",
        "    print('Serai')"
      ],
      "metadata": {
        "id": "G7Bsf8ZIZcUD",
        "colab": {
          "resources": {
            "http://localhost:8080/nbextensions/google.colab/files.js": {
              "data": "Ly8gQ29weXJpZ2h0IDIwMTcgR29vZ2xlIExMQwovLwovLyBMaWNlbnNlZCB1bmRlciB0aGUgQXBhY2hlIExpY2Vuc2UsIFZlcnNpb24gMi4wICh0aGUgIkxpY2Vuc2UiKTsKLy8geW91IG1heSBub3QgdXNlIHRoaXMgZmlsZSBleGNlcHQgaW4gY29tcGxpYW5jZSB3aXRoIHRoZSBMaWNlbnNlLgovLyBZb3UgbWF5IG9idGFpbiBhIGNvcHkgb2YgdGhlIExpY2Vuc2UgYXQKLy8KLy8gICAgICBodHRwOi8vd3d3LmFwYWNoZS5vcmcvbGljZW5zZXMvTElDRU5TRS0yLjAKLy8KLy8gVW5sZXNzIHJlcXVpcmVkIGJ5IGFwcGxpY2FibGUgbGF3IG9yIGFncmVlZCB0byBpbiB3cml0aW5nLCBzb2Z0d2FyZQovLyBkaXN0cmlidXRlZCB1bmRlciB0aGUgTGljZW5zZSBpcyBkaXN0cmlidXRlZCBvbiBhbiAiQVMgSVMiIEJBU0lTLAovLyBXSVRIT1VUIFdBUlJBTlRJRVMgT1IgQ09ORElUSU9OUyBPRiBBTlkgS0lORCwgZWl0aGVyIGV4cHJlc3Mgb3IgaW1wbGllZC4KLy8gU2VlIHRoZSBMaWNlbnNlIGZvciB0aGUgc3BlY2lmaWMgbGFuZ3VhZ2UgZ292ZXJuaW5nIHBlcm1pc3Npb25zIGFuZAovLyBsaW1pdGF0aW9ucyB1bmRlciB0aGUgTGljZW5zZS4KCi8qKgogKiBAZmlsZW92ZXJ2aWV3IEhlbHBlcnMgZm9yIGdvb2dsZS5jb2xhYiBQeXRob24gbW9kdWxlLgogKi8KKGZ1bmN0aW9uKHNjb3BlKSB7CmZ1bmN0aW9uIHNwYW4odGV4dCwgc3R5bGVBdHRyaWJ1dGVzID0ge30pIHsKICBjb25zdCBlbGVtZW50ID0gZG9jdW1lbnQuY3JlYXRlRWxlbWVudCgnc3BhbicpOwogIGVsZW1lbnQudGV4dENvbnRlbnQgPSB0ZXh0OwogIGZvciAoY29uc3Qga2V5IG9mIE9iamVjdC5rZXlzKHN0eWxlQXR0cmlidXRlcykpIHsKICAgIGVsZW1lbnQuc3R5bGVba2V5XSA9IHN0eWxlQXR0cmlidXRlc1trZXldOwogIH0KICByZXR1cm4gZWxlbWVudDsKfQoKLy8gTWF4IG51bWJlciBvZiBieXRlcyB3aGljaCB3aWxsIGJlIHVwbG9hZGVkIGF0IGEgdGltZS4KY29uc3QgTUFYX1BBWUxPQURfU0laRSA9IDEwMCAqIDEwMjQ7CgpmdW5jdGlvbiBfdXBsb2FkRmlsZXMoaW5wdXRJZCwgb3V0cHV0SWQpIHsKICBjb25zdCBzdGVwcyA9IHVwbG9hZEZpbGVzU3RlcChpbnB1dElkLCBvdXRwdXRJZCk7CiAgY29uc3Qgb3V0cHV0RWxlbWVudCA9IGRvY3VtZW50LmdldEVsZW1lbnRCeUlkKG91dHB1dElkKTsKICAvLyBDYWNoZSBzdGVwcyBvbiB0aGUgb3V0cHV0RWxlbWVudCB0byBtYWtlIGl0IGF2YWlsYWJsZSBmb3IgdGhlIG5leHQgY2FsbAogIC8vIHRvIHVwbG9hZEZpbGVzQ29udGludWUgZnJvbSBQeXRob24uCiAgb3V0cHV0RWxlbWVudC5zdGVwcyA9IHN0ZXBzOwoKICByZXR1cm4gX3VwbG9hZEZpbGVzQ29udGludWUob3V0cHV0SWQpOwp9CgovLyBUaGlzIGlzIHJvdWdobHkgYW4gYXN5bmMgZ2VuZXJhdG9yIChub3Qgc3VwcG9ydGVkIGluIHRoZSBicm93c2VyIHlldCksCi8vIHdoZXJlIHRoZXJlIGFyZSBtdWx0aXBsZSBhc3luY2hyb25vdXMgc3RlcHMgYW5kIHRoZSBQeXRob24gc2lkZSBpcyBnb2luZwovLyB0byBwb2xsIGZvciBjb21wbGV0aW9uIG9mIGVhY2ggc3RlcC4KLy8gVGhpcyB1c2VzIGEgUHJvbWlzZSB0byBibG9jayB0aGUgcHl0aG9uIHNpZGUgb24gY29tcGxldGlvbiBvZiBlYWNoIHN0ZXAsCi8vIHRoZW4gcGFzc2VzIHRoZSByZXN1bHQgb2YgdGhlIHByZXZpb3VzIHN0ZXAgYXMgdGhlIGlucHV0IHRvIHRoZSBuZXh0IHN0ZXAuCmZ1bmN0aW9uIF91cGxvYWRGaWxlc0NvbnRpbnVlKG91dHB1dElkKSB7CiAgY29uc3Qgb3V0cHV0RWxlbWVudCA9IGRvY3VtZW50LmdldEVsZW1lbnRCeUlkKG91dHB1dElkKTsKICBjb25zdCBzdGVwcyA9IG91dHB1dEVsZW1lbnQuc3RlcHM7CgogIGNvbnN0IG5leHQgPSBzdGVwcy5uZXh0KG91dHB1dEVsZW1lbnQubGFzdFByb21pc2VWYWx1ZSk7CiAgcmV0dXJuIFByb21pc2UucmVzb2x2ZShuZXh0LnZhbHVlLnByb21pc2UpLnRoZW4oKHZhbHVlKSA9PiB7CiAgICAvLyBDYWNoZSB0aGUgbGFzdCBwcm9taXNlIHZhbHVlIHRvIG1ha2UgaXQgYXZhaWxhYmxlIHRvIHRoZSBuZXh0CiAgICAvLyBzdGVwIG9mIHRoZSBnZW5lcmF0b3IuCiAgICBvdXRwdXRFbGVtZW50Lmxhc3RQcm9taXNlVmFsdWUgPSB2YWx1ZTsKICAgIHJldHVybiBuZXh0LnZhbHVlLnJlc3BvbnNlOwogIH0pOwp9CgovKioKICogR2VuZXJhdG9yIGZ1bmN0aW9uIHdoaWNoIGlzIGNhbGxlZCBiZXR3ZWVuIGVhY2ggYXN5bmMgc3RlcCBvZiB0aGUgdXBsb2FkCiAqIHByb2Nlc3MuCiAqIEBwYXJhbSB7c3RyaW5nfSBpbnB1dElkIEVsZW1lbnQgSUQgb2YgdGhlIGlucHV0IGZpbGUgcGlja2VyIGVsZW1lbnQuCiAqIEBwYXJhbSB7c3RyaW5nfSBvdXRwdXRJZCBFbGVtZW50IElEIG9mIHRoZSBvdXRwdXQgZGlzcGxheS4KICogQHJldHVybiB7IUl0ZXJhYmxlPCFPYmplY3Q+fSBJdGVyYWJsZSBvZiBuZXh0IHN0ZXBzLgogKi8KZnVuY3Rpb24qIHVwbG9hZEZpbGVzU3RlcChpbnB1dElkLCBvdXRwdXRJZCkgewogIGNvbnN0IGlucHV0RWxlbWVudCA9IGRvY3VtZW50LmdldEVsZW1lbnRCeUlkKGlucHV0SWQpOwogIGlucHV0RWxlbWVudC5kaXNhYmxlZCA9IGZhbHNlOwoKICBjb25zdCBvdXRwdXRFbGVtZW50ID0gZG9jdW1lbnQuZ2V0RWxlbWVudEJ5SWQob3V0cHV0SWQpOwogIG91dHB1dEVsZW1lbnQuaW5uZXJIVE1MID0gJyc7CgogIGNvbnN0IHBpY2tlZFByb21pc2UgPSBuZXcgUHJvbWlzZSgocmVzb2x2ZSkgPT4gewogICAgaW5wdXRFbGVtZW50LmFkZEV2ZW50TGlzdGVuZXIoJ2NoYW5nZScsIChlKSA9PiB7CiAgICAgIHJlc29sdmUoZS50YXJnZXQuZmlsZXMpOwogICAgfSk7CiAgfSk7CgogIGNvbnN0IGNhbmNlbCA9IGRvY3VtZW50LmNyZWF0ZUVsZW1lbnQoJ2J1dHRvbicpOwogIGlucHV0RWxlbWVudC5wYXJlbnRFbGVtZW50LmFwcGVuZENoaWxkKGNhbmNlbCk7CiAgY2FuY2VsLnRleHRDb250ZW50ID0gJ0NhbmNlbCB1cGxvYWQnOwogIGNvbnN0IGNhbmNlbFByb21pc2UgPSBuZXcgUHJvbWlzZSgocmVzb2x2ZSkgPT4gewogICAgY2FuY2VsLm9uY2xpY2sgPSAoKSA9PiB7CiAgICAgIHJlc29sdmUobnVsbCk7CiAgICB9OwogIH0pOwoKICAvLyBXYWl0IGZvciB0aGUgdXNlciB0byBwaWNrIHRoZSBmaWxlcy4KICBjb25zdCBmaWxlcyA9IHlpZWxkIHsKICAgIHByb21pc2U6IFByb21pc2UucmFjZShbcGlja2VkUHJvbWlzZSwgY2FuY2VsUHJvbWlzZV0pLAogICAgcmVzcG9uc2U6IHsKICAgICAgYWN0aW9uOiAnc3RhcnRpbmcnLAogICAgfQogIH07CgogIGNhbmNlbC5yZW1vdmUoKTsKCiAgLy8gRGlzYWJsZSB0aGUgaW5wdXQgZWxlbWVudCBzaW5jZSBmdXJ0aGVyIHBpY2tzIGFyZSBub3QgYWxsb3dlZC4KICBpbnB1dEVsZW1lbnQuZGlzYWJsZWQgPSB0cnVlOwoKICBpZiAoIWZpbGVzKSB7CiAgICByZXR1cm4gewogICAgICByZXNwb25zZTogewogICAgICAgIGFjdGlvbjogJ2NvbXBsZXRlJywKICAgICAgfQogICAgfTsKICB9CgogIGZvciAoY29uc3QgZmlsZSBvZiBmaWxlcykgewogICAgY29uc3QgbGkgPSBkb2N1bWVudC5jcmVhdGVFbGVtZW50KCdsaScpOwogICAgbGkuYXBwZW5kKHNwYW4oZmlsZS5uYW1lLCB7Zm9udFdlaWdodDogJ2JvbGQnfSkpOwogICAgbGkuYXBwZW5kKHNwYW4oCiAgICAgICAgYCgke2ZpbGUudHlwZSB8fCAnbi9hJ30pIC0gJHtmaWxlLnNpemV9IGJ5dGVzLCBgICsKICAgICAgICBgbGFzdCBtb2RpZmllZDogJHsKICAgICAgICAgICAgZmlsZS5sYXN0TW9kaWZpZWREYXRlID8gZmlsZS5sYXN0TW9kaWZpZWREYXRlLnRvTG9jYWxlRGF0ZVN0cmluZygpIDoKICAgICAgICAgICAgICAgICAgICAgICAgICAgICAgICAgICAgJ24vYSd9IC0gYCkpOwogICAgY29uc3QgcGVyY2VudCA9IHNwYW4oJzAlIGRvbmUnKTsKICAgIGxpLmFwcGVuZENoaWxkKHBlcmNlbnQpOwoKICAgIG91dHB1dEVsZW1lbnQuYXBwZW5kQ2hpbGQobGkpOwoKICAgIGNvbnN0IGZpbGVEYXRhUHJvbWlzZSA9IG5ldyBQcm9taXNlKChyZXNvbHZlKSA9PiB7CiAgICAgIGNvbnN0IHJlYWRlciA9IG5ldyBGaWxlUmVhZGVyKCk7CiAgICAgIHJlYWRlci5vbmxvYWQgPSAoZSkgPT4gewogICAgICAgIHJlc29sdmUoZS50YXJnZXQucmVzdWx0KTsKICAgICAgfTsKICAgICAgcmVhZGVyLnJlYWRBc0FycmF5QnVmZmVyKGZpbGUpOwogICAgfSk7CiAgICAvLyBXYWl0IGZvciB0aGUgZGF0YSB0byBiZSByZWFkeS4KICAgIGxldCBmaWxlRGF0YSA9IHlpZWxkIHsKICAgICAgcHJvbWlzZTogZmlsZURhdGFQcm9taXNlLAogICAgICByZXNwb25zZTogewogICAgICAgIGFjdGlvbjogJ2NvbnRpbnVlJywKICAgICAgfQogICAgfTsKCiAgICAvLyBVc2UgYSBjaHVua2VkIHNlbmRpbmcgdG8gYXZvaWQgbWVzc2FnZSBzaXplIGxpbWl0cy4gU2VlIGIvNjIxMTU2NjAuCiAgICBsZXQgcG9zaXRpb24gPSAwOwogICAgZG8gewogICAgICBjb25zdCBsZW5ndGggPSBNYXRoLm1pbihmaWxlRGF0YS5ieXRlTGVuZ3RoIC0gcG9zaXRpb24sIE1BWF9QQVlMT0FEX1NJWkUpOwogICAgICBjb25zdCBjaHVuayA9IG5ldyBVaW50OEFycmF5KGZpbGVEYXRhLCBwb3NpdGlvbiwgbGVuZ3RoKTsKICAgICAgcG9zaXRpb24gKz0gbGVuZ3RoOwoKICAgICAgY29uc3QgYmFzZTY0ID0gYnRvYShTdHJpbmcuZnJvbUNoYXJDb2RlLmFwcGx5KG51bGwsIGNodW5rKSk7CiAgICAgIHlpZWxkIHsKICAgICAgICByZXNwb25zZTogewogICAgICAgICAgYWN0aW9uOiAnYXBwZW5kJywKICAgICAgICAgIGZpbGU6IGZpbGUubmFtZSwKICAgICAgICAgIGRhdGE6IGJhc2U2NCwKICAgICAgICB9LAogICAgICB9OwoKICAgICAgbGV0IHBlcmNlbnREb25lID0gZmlsZURhdGEuYnl0ZUxlbmd0aCA9PT0gMCA/CiAgICAgICAgICAxMDAgOgogICAgICAgICAgTWF0aC5yb3VuZCgocG9zaXRpb24gLyBmaWxlRGF0YS5ieXRlTGVuZ3RoKSAqIDEwMCk7CiAgICAgIHBlcmNlbnQudGV4dENvbnRlbnQgPSBgJHtwZXJjZW50RG9uZX0lIGRvbmVgOwoKICAgIH0gd2hpbGUgKHBvc2l0aW9uIDwgZmlsZURhdGEuYnl0ZUxlbmd0aCk7CiAgfQoKICAvLyBBbGwgZG9uZS4KICB5aWVsZCB7CiAgICByZXNwb25zZTogewogICAgICBhY3Rpb246ICdjb21wbGV0ZScsCiAgICB9CiAgfTsKfQoKc2NvcGUuZ29vZ2xlID0gc2NvcGUuZ29vZ2xlIHx8IHt9OwpzY29wZS5nb29nbGUuY29sYWIgPSBzY29wZS5nb29nbGUuY29sYWIgfHwge307CnNjb3BlLmdvb2dsZS5jb2xhYi5fZmlsZXMgPSB7CiAgX3VwbG9hZEZpbGVzLAogIF91cGxvYWRGaWxlc0NvbnRpbnVlLAp9Owp9KShzZWxmKTsK",
              "ok": true,
              "headers": [
                [
                  "content-type",
                  "application/javascript"
                ]
              ],
              "status": 200,
              "status_text": ""
            }
          },
          "base_uri": "https://localhost:8080/",
          "height": 108
        },
        "outputId": "846dada3-d157-4f97-cd99-a4e10bef691a"
      },
      "execution_count": null,
      "outputs": [
        {
          "output_type": "display_data",
          "data": {
            "text/plain": [
              "<IPython.core.display.HTML object>"
            ],
            "text/html": [
              "\n",
              "     <input type=\"file\" id=\"files-2caac3b0-99ba-4c52-b68c-88d5449146a4\" name=\"files[]\" multiple disabled\n",
              "        style=\"border:none\" />\n",
              "     <output id=\"result-2caac3b0-99ba-4c52-b68c-88d5449146a4\">\n",
              "      Upload widget is only available when the cell has been executed in the\n",
              "      current browser session. Please rerun this cell to enable.\n",
              "      </output>\n",
              "      <script src=\"/nbextensions/google.colab/files.js\"></script> "
            ]
          },
          "metadata": {}
        },
        {
          "output_type": "stream",
          "name": "stdout",
          "text": [
            "Saving 000.jpg to 000.jpg\n",
            "000.jpg\n",
            "Jahe\n"
          ]
        }
      ]
    },
    {
      "cell_type": "code",
      "source": [
        "export_dir = 'saved_model/'\n",
        "tf.saved_model.save(model, export_dir)"
      ],
      "metadata": {
        "colab": {
          "base_uri": "https://localhost:8080/"
        },
        "id": "H0RPQr9LSJSJ",
        "outputId": "237b8c1c-3307-482a-bbdd-3dbe72fd5aec"
      },
      "execution_count": null,
      "outputs": [
        {
          "output_type": "stream",
          "name": "stdout",
          "text": [
            "INFO:tensorflow:Assets written to: saved_model/assets\n"
          ]
        }
      ]
    },
    {
      "cell_type": "code",
      "source": [
        "converter = tf.lite.TFLiteConverter.from_saved_model(export_dir)\n",
        "tflite_model = converter.convert()"
      ],
      "metadata": {
        "colab": {
          "base_uri": "https://localhost:8080/"
        },
        "id": "kaZ6VqCITHYI",
        "outputId": "56007273-7dfa-45de-e907-ca4188bd90dd"
      },
      "execution_count": null,
      "outputs": [
        {
          "output_type": "stream",
          "name": "stderr",
          "text": [
            "WARNING:absl:Buffer deduplication procedure will be skipped when flatbuffer library is not properly loaded\n"
          ]
        }
      ]
    },
    {
      "cell_type": "code",
      "source": [
        "import pathlib\n",
        "tflite_model_file = pathlib.Path('model.tflite')\n",
        "tflite_model_file.write_bytes(tflite_model)"
      ],
      "metadata": {
        "colab": {
          "base_uri": "https://localhost:8080/"
        },
        "id": "8V_B5bwFTzEw",
        "outputId": "d7c8b69b-4b4b-4566-c45b-ac39fb6d0ba4"
      },
      "execution_count": null,
      "outputs": [
        {
          "output_type": "execute_result",
          "data": {
            "text/plain": [
              "76045924"
            ]
          },
          "metadata": {},
          "execution_count": 18
        }
      ]
    },
    {
      "cell_type": "code",
      "source": [
        "try:\n",
        "    from google.colab import files\n",
        "    files.download(tflite_model_file)\n",
        "except:\n",
        "    pass"
      ],
      "metadata": {
        "colab": {
          "base_uri": "https://localhost:8080/",
          "height": 34
        },
        "id": "zW7KlRfqUAzj",
        "outputId": "de63edf3-c63b-4d2d-cb09-e2d81921d616"
      },
      "execution_count": null,
      "outputs": [
        {
          "output_type": "display_data",
          "data": {
            "text/plain": [
              "<IPython.core.display.Javascript object>"
            ],
            "application/javascript": [
              "\n",
              "    async function download(id, filename, size) {\n",
              "      if (!google.colab.kernel.accessAllowed) {\n",
              "        return;\n",
              "      }\n",
              "      const div = document.createElement('div');\n",
              "      const label = document.createElement('label');\n",
              "      label.textContent = `Downloading \"${filename}\": `;\n",
              "      div.appendChild(label);\n",
              "      const progress = document.createElement('progress');\n",
              "      progress.max = size;\n",
              "      div.appendChild(progress);\n",
              "      document.body.appendChild(div);\n",
              "\n",
              "      const buffers = [];\n",
              "      let downloaded = 0;\n",
              "\n",
              "      const channel = await google.colab.kernel.comms.open(id);\n",
              "      // Send a message to notify the kernel that we're ready.\n",
              "      channel.send({})\n",
              "\n",
              "      for await (const message of channel.messages) {\n",
              "        // Send a message to notify the kernel that we're ready.\n",
              "        channel.send({})\n",
              "        if (message.buffers) {\n",
              "          for (const buffer of message.buffers) {\n",
              "            buffers.push(buffer);\n",
              "            downloaded += buffer.byteLength;\n",
              "            progress.value = downloaded;\n",
              "          }\n",
              "        }\n",
              "      }\n",
              "      const blob = new Blob(buffers, {type: 'application/binary'});\n",
              "      const a = document.createElement('a');\n",
              "      a.href = window.URL.createObjectURL(blob);\n",
              "      a.download = filename;\n",
              "      div.appendChild(a);\n",
              "      a.click();\n",
              "      div.remove();\n",
              "    }\n",
              "  "
            ]
          },
          "metadata": {}
        },
        {
          "output_type": "display_data",
          "data": {
            "text/plain": [
              "<IPython.core.display.Javascript object>"
            ],
            "application/javascript": [
              "download(\"download_7370df9b-22d3-4622-97ee-dfe2c6d821f0\", \"model.tflite\", 76045924)"
            ]
          },
          "metadata": {}
        }
      ]
    }
  ]
}