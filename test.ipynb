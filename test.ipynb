{
 "cells": [
  {
   "cell_type": "code",
   "execution_count": 1,
   "metadata": {},
   "outputs": [],
   "source": [
    "import requests\n",
    "import json\n",
    "import base64\n",
    " \n",
    "# Read Images\n",
    "\n",
    " \n",
    "# Output Images\n",
    "# plt.imshow(img)\n"
   ]
  },
  {
   "cell_type": "code",
   "execution_count": 17,
   "metadata": {},
   "outputs": [
    {
     "name": "stdout",
     "output_type": "stream",
     "text": [
      "{'file': <_io.BufferedReader name='dataset/testing/kayu manis/cinnamon (20).jpeg'>}\n"
     ]
    },
    {
     "data": {
      "text/plain": [
       "'{\"data\":{\"confidence\":\"100%\",\"prediction\":\"kayu manis\"},\"isError\":false,\"message\":\"Success\",\"statusCode\":200}\\n'"
      ]
     },
     "execution_count": 17,
     "metadata": {},
     "output_type": "execute_result"
    }
   ],
   "source": [
    "image_path = 'dataset/testing/serai/serai (16).jpg'\n",
    "\n",
    "# data = {}\n",
    "# with open(image_path, mode='rb') as file:\n",
    "#     img = file.read()\n",
    "# data['img'] = base64.encodebytes(img).decode('utf-8')\n",
    "\n",
    "file = {'file': open('dataset/testing/kayu manis/cinnamon (20).jpeg', 'rb')}\n",
    "print(file)\n",
    "endpoint = \"http://127.0.0.1:5000/predict\"\n",
    "headers = {\"content-type\": \"application/json\"}\n",
    "\n",
    "response = requests.post(endpoint, files = file)\n",
    "response.text\n",
    "\n"
   ]
  },
  {
   "cell_type": "code",
   "execution_count": null,
   "metadata": {},
   "outputs": [],
   "source": []
  }
 ],
 "metadata": {
  "interpreter": {
   "hash": "5629279ce0a6e414802fb5df221f6b2f3c51d3b6161c824c0e824f59dfb58c9d"
  },
  "kernelspec": {
   "display_name": "Python 3.8.13 ('tensorflow')",
   "language": "python",
   "name": "python3"
  },
  "language_info": {
   "codemirror_mode": {
    "name": "ipython",
    "version": 3
   },
   "file_extension": ".py",
   "mimetype": "text/x-python",
   "name": "python",
   "nbconvert_exporter": "python",
   "pygments_lexer": "ipython3",
   "version": "3.8.13"
  },
  "orig_nbformat": 4
 },
 "nbformat": 4,
 "nbformat_minor": 2
}
